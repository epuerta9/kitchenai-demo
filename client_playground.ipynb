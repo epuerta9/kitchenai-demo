{
 "cells": [
  {
   "cell_type": "code",
   "execution_count": 2,
   "metadata": {},
   "outputs": [],
   "source": [
    "import nest_asyncio\n",
    "nest_asyncio.apply()\n"
   ]
  },
  {
   "cell_type": "markdown",
   "metadata": {},
   "source": [
    "# Initialize the OpenAI client with the KitchenAI control plane\n",
    "\n",
    "Make sure your control plane is running at localhost:8001\n"
   ]
  },
  {
   "cell_type": "code",
   "execution_count": 3,
   "metadata": {},
   "outputs": [],
   "source": [
    "from openai import OpenAI\n",
    "from whisk.kitchenai_sdk.http_schema import ChatExtraBody\n",
    "\n",
    "client = OpenAI(base_url=\"http://localhost:8001/v1\")"
   ]
  },
  {
   "cell_type": "markdown",
   "metadata": {},
   "source": [
    "# Create a `FileExtraBody` object with metadata\n",
    "- Assign a unique `client_id`\n",
    "- Define a namespace, label, and version\n",
    "- Attach metadata (e.g., user_id)\n",
    "Upload the file (`README.md`) to KitchenAI for processing\n",
    "\n",
    "> NOTE: at this point you can look at the bento.ipynb to see your storage function process the file. (It must be actively running!)\n"
   ]
  },
  {
   "cell_type": "code",
   "execution_count": 9,
   "metadata": {},
   "outputs": [
    {
     "name": "stdout",
     "output_type": "stream",
     "text": [
      "FileObject(id='39', bytes=23, created_at=1738870798, filename='README.md', object='file', purpose='{\"client_id\": \"61737fe4-d76c-4146-8d48-58a7b923ab47\", \"namespace\": \"my-remote-client\", \"label\": \"storage\", \"version\": \"0.0.1\", \"metadata\": {\"user_id\": \"123\", \"other_key\": \"value\"}}', status='pending', status_details=None)\n"
     ]
    }
   ],
   "source": [
    "import json\n",
    "\n",
    "from whisk.kitchenai_sdk.http_schema import FileExtraBody   \n",
    "\n",
    "file_extra_body = FileExtraBody(\n",
    "    client_id=\"61737fe4-d76c-4146-8d48-58a7b923ab78\",\n",
    "    namespace=\"my-remote-client\",\n",
    "    label=\"storage\",\n",
    "    version=\"1.0.0\",\n",
    "    metadata=\"user_id=123,other_key=value\"  # Changed to string format\n",
    ")\n",
    "\n",
    "response = client.files.create(\n",
    "    file=open(\"README.md\", \"rb\"),\n",
    "    purpose=\"chat\",\n",
    "    extra_body=file_extra_body.model_dump()\n",
    ")\n",
    "print(response)"
   ]
  },
  {
   "cell_type": "markdown",
   "metadata": {},
   "source": [
    "# List Files \n",
    "\n",
    "list the existing files "
   ]
  },
  {
   "cell_type": "code",
   "execution_count": 5,
   "metadata": {},
   "outputs": [
    {
     "name": "stdout",
     "output_type": "stream",
     "text": [
      "SyncCursorPage[FileObject](data=[FileObject(id='40', bytes=176299, created_at=1738876870, filename='consultancy-rfp.pdf', object='file', purpose='{\"client_id\": \"61737fe4-d76c-4146-8d48-58a7b923ab47\", \"namespace\": \"my-remote-client\", \"label\": \"storage\", \"version\": \"0.0.1\", \"metadata\": {}}', status='completed', status_details=None), FileObject(id='41', bytes=168661, created_at=1738924999, filename='advertising-rfp.pdf', object='file', purpose='{\"client_id\": \"61737fe4-d76c-4146-8d48-58a7b923ab47\", \"namespace\": \"my-remote-client\", \"label\": \"storage\", \"version\": \"0.0.1\", \"metadata\": {}}', status='completed', status_details=None)], object='list')\n"
     ]
    },
    {
     "data": {
      "text/plain": [
       "'40'"
      ]
     },
     "execution_count": 5,
     "metadata": {},
     "output_type": "execute_result"
    }
   ],
   "source": [
    "c_list  = client.files.list()\n",
    "\n",
    "print(c_list)\n",
    "\n",
    "c_list.data[0].id"
   ]
  },
  {
   "cell_type": "code",
   "execution_count": 6,
   "metadata": {},
   "outputs": [
    {
     "data": {
      "text/plain": [
       "FileObject(id='40', bytes=176299, created_at=1738876870, filename='consultancy-rfp.pdf', object='file', purpose='{\"client_id\": \"61737fe4-d76c-4146-8d48-58a7b923ab47\", \"namespace\": \"my-remote-client\", \"label\": \"storage\", \"version\": \"0.0.1\", \"metadata\": {}}', status='completed', status_details=None)"
      ]
     },
     "execution_count": 6,
     "metadata": {},
     "output_type": "execute_result"
    }
   ],
   "source": [
    "client.files.retrieve(c_list.data[0].id)\n"
   ]
  },
  {
   "cell_type": "markdown",
   "metadata": {},
   "source": [
    "## Query with no RAG\n",
    "\n",
    "First, let's test querying without RAG (Retrieval Augmented Generation).\n",
    "This means the model will respond based on its pre-trained knowledge,\n",
    "without referencing any of our uploaded documents.\n",
    "We'll use the 'query-no-rag' endpoint for this test."
   ]
  },
  {
   "cell_type": "code",
   "execution_count": 7,
   "metadata": {},
   "outputs": [
    {
     "name": "stdout",
     "output_type": "stream",
     "text": [
      "{'namespace': 'my-remote-client', 'version': '1.0.0'}\n",
      "ChatCompletion(id='98ec82e2-5186-47c1-bca8-c769d606c8f9', choices=[Choice(finish_reason='stop', index=0, logprobs=None, message=ChatCompletionMessage(content='The most important part of a README file is typically the introduction or overview section. This section should provide a brief summary of what the project is, what problem it solves, and how it can be used. It should also include any important information or instructions that users need to know before getting started with the project. Additionally, the README should include any necessary installation or setup instructions, as well as any dependencies or requirements that need to be met in order to use the project successfully.', refusal=None, role='assistant', audio=None, function_call=None, tool_calls=None, retrieval_context=None), error=None)], created=1738950191, model='@61737fe4-d76c-4146-8d48-58a7b923ab78/query-no-rag', object='chat.completion', service_tier=None, system_fingerprint=None, usage=CompletionUsage(completion_tokens=96, prompt_tokens=17, total_tokens=113, completion_tokens_details=None, prompt_tokens_details=None))\n"
     ]
    }
   ],
   "source": [
    "\n",
    "\n",
    "chat_extra_body = ChatExtraBody(\n",
    "    namespace=\"my-remote-client\",\n",
    "    version=\"1.0.0\",\n",
    ")   \n",
    "\n",
    "print(chat_extra_body.model_dump())\n",
    "\n",
    "response = client.chat.completions.create(\n",
    "    model=\"@61737fe4-d76c-4146-8d48-58a7b923ab78/query-no-rag\", #insert your client ID\n",
    "    messages=[{\"role\": \"user\", \"content\": \"whats the most important part of the readme?\"}],\n",
    "    metadata={\"user_id\": \"123\"},\n",
    "    extra_body=chat_extra_body.model_dump()\n",
    ")\n",
    "\n",
    "print(response)\n"
   ]
  },
  {
   "cell_type": "code",
   "execution_count": 8,
   "metadata": {},
   "outputs": [
    {
     "data": {
      "text/plain": [
       "'The most important part of a README file is typically the introduction or overview section. This section should provide a brief summary of what the project is, what problem it solves, and how it can be used. It should also include any important information or instructions that users need to know before getting started with the project. Additionally, the README should include any necessary installation or setup instructions, as well as any dependencies or requirements that need to be met in order to use the project successfully.'"
      ]
     },
     "execution_count": 8,
     "metadata": {},
     "output_type": "execute_result"
    }
   ],
   "source": [
    "response.choices[0].message.content"
   ]
  },
  {
   "cell_type": "markdown",
   "metadata": {},
   "source": [
    "# Query with RAG\n",
    "\n",
    "Now let's test querying with RAG (Retrieval Augmented Generation).\n",
    "This means the model will respond based on both its pre-trained knowledge\n",
    "and the content of our uploaded documents.\n",
    "We'll use the 'query' endpoint for this test."
   ]
  },
  {
   "cell_type": "code",
   "execution_count": 9,
   "metadata": {},
   "outputs": [
    {
     "name": "stdout",
     "output_type": "stream",
     "text": [
      "{'namespace': 'my-remote-client', 'version': '1.0.0'}\n",
      "ChatCompletion(id='8e0b297f-22db-4de0-9c51-509420f572e2', choices=[Choice(finish_reason='stop', index=0, logprobs=None, message=ChatCompletionMessage(content='The most important part of the README is typically the content that provides a clear and concise overview of what the document covers, its purpose, and any key information that users need to know. This section often sets the tone for the rest of the document and helps users quickly understand the main points without having to read through the entire text.', refusal=None, role='assistant', audio=None, function_call=None, tool_calls=None, retrieval_context=[{'text': 'THIS IS A DEMO README', 'metadata': {'user_id': '123', 'other_key': 'value', 'document_title': '\"Demo README Overview: A Comprehensive Guide to Understanding the Demo README\"', 'questions_this_excerpt_can_answer': '1. What is the user_id associated with the document?\\n2. What is the title of the document and what does it cover?\\n3. What is the specific content of the excerpt provided?\\n4. What other key information is included in the document?\\n5. How does the document describe itself as a \"Comprehensive Guide\"?'}, 'score': 0.6540245414256368}]), error=None)], created=1738950214, model='@61737fe4-d76c-4146-8d48-58a7b923ab78/query', object='chat.completion', service_tier=None, system_fingerprint=None, usage=CompletionUsage(completion_tokens=67, prompt_tokens=239, total_tokens=306, completion_tokens_details=None, prompt_tokens_details=None))\n"
     ]
    }
   ],
   "source": [
    "chat_extra_body = ChatExtraBody(\n",
    "    namespace=\"my-remote-client\",\n",
    "    version=\"1.0.0\",\n",
    ")   \n",
    "\n",
    "print(chat_extra_body.model_dump())\n",
    "\n",
    "response = client.chat.completions.create(\n",
    "    model=\"@61737fe4-d76c-4146-8d48-58a7b923ab78/query\", #insert your client ID\n",
    "    messages=[{\"role\": \"user\", \"content\": \"whats the most important part of the readme?\"}],\n",
    "    metadata={\"user_id\": \"123\"},\n",
    "    extra_body=chat_extra_body.model_dump()\n",
    ")\n",
    "\n",
    "print(response)"
   ]
  },
  {
   "cell_type": "code",
   "execution_count": 13,
   "metadata": {},
   "outputs": [
    {
     "data": {
      "text/plain": [
       "FileDeleted(id='39', deleted=True, object='file')"
      ]
     },
     "execution_count": 13,
     "metadata": {},
     "output_type": "execute_result"
    }
   ],
   "source": [
    "client.files.delete(c_list.data[0].id)\n"
   ]
  }
 ],
 "metadata": {
  "kernelspec": {
   "display_name": "venv",
   "language": "python",
   "name": "python3"
  },
  "language_info": {
   "codemirror_mode": {
    "name": "ipython",
    "version": 3
   },
   "file_extension": ".py",
   "mimetype": "text/x-python",
   "name": "python",
   "nbconvert_exporter": "python",
   "pygments_lexer": "ipython3",
   "version": "3.11.8"
  }
 },
 "nbformat": 4,
 "nbformat_minor": 4
}
